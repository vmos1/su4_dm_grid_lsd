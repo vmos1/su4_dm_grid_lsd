{
 "cells": [
  {
   "cell_type": "markdown",
   "metadata": {},
   "source": [
    "# Code to generate folder for HMC run\n",
    "May 8, 2023"
   ]
  },
  {
   "cell_type": "code",
   "execution_count": 5,
   "metadata": {},
   "outputs": [],
   "source": [
    "import numpy as np\n",
    "import os\n",
    "import argparse\n",
    "import subprocess as sp\n",
    "import shutil\n",
    "import glob\n",
    "\n",
    "import yaml"
   ]
  },
  {
   "cell_type": "code",
   "execution_count": 6,
   "metadata": {},
   "outputs": [],
   "source": [
    "def f_write_config(input_dict,fname):\n",
    "    \n",
    "    with open(fname,'w') as f:\n",
    "        yaml.dump(input_dict,f,sort_keys=False)\n",
    "        \n",
    "# f_write_config(dict_pars,'config.yaml')"
   ]
  },
  {
   "cell_type": "code",
   "execution_count": 7,
   "metadata": {},
   "outputs": [],
   "source": [
    "def f_build_submit_script(dict_pars,fname):\n",
    "    \n",
    "    submit_strg='''#!/bin/bash\n",
    "################\n",
    "# Begin LSF Directives\n",
    "#SBATCH -A latticgc\n",
    "#SBATCH -t 00:10:00\n",
    "#SBATCH -J hsdm\n",
    "#SBATCH -o hsdm.%J\n",
    "#SBATCH -e hsdm.%J\n",
    "#SBATCH -N {N}\n",
    "#SBATCH -n {nprocs}\n",
    "#SBATCH --exclusive\n",
    "#SBATCH --gpu-bind=map_gpu:0,1,2,3,7,6,5,4\n",
    "#SBATCH -c 1\n",
    "###SBATCH --threads-per-core=1\n",
    "\n",
    "echo \"--start \" `date` `date +%s`\n",
    "\n",
    "export BIND=\"--cpu-bind=verbose,map_ldom:3,3,1,1,2,2,0,0\"\n",
    "\n",
    "export MPIR_CVAR_GPU_EAGER_DEVICE_MEM=16384\n",
    "export MPICH_GPU_SUPPORT_ENABLED=1\n",
    "export MPICH_SMP_SINGLE_COPY_MODE=CMA\n",
    "export OMP_NUM_THREADS=8\n",
    "export MPICH_OFI_NIC_POLICY=GPU\n",
    "export OPT=\"--comms-concurrent --comms-overlap \"\n",
    "\n",
    "source $GRID_DIR/setup_env.sh\n",
    "export TSAN_OPTIONS='ignore_noninstrumented_modules=1'\n",
    "export LD_LIBRARY_PATH\n",
    "\n",
    "Ls={dwf_Ls}\n",
    "traj_l={traj_l}\n",
    "md_steps={md_steps}\n",
    "BETA={beta}\n",
    "M_F={mf}\n",
    "\n",
    "APP=\"$RUN_DIR/dm_tests/build/dweofa_mobius_HSDM --grid {Lx}.{Lx}.{Lx}.{Lt} --mpi {mpi} --shm 2048 --shm-force-mpi 1 --device-mem 5000 --Trajectories 200 --Thermalizations 10 $OPT $Ls $traj_l $md_steps $BETA $M_F\"\n",
    "#srun --gpus-per-task 1 -n64 $BIND $APP > HSDM.out\n",
    "#srun --gpus-per-task 1 -n64 $APP > HSDM.out\n",
    "srun -n{nprocs} $APP > HSDM.out\n",
    "\n",
    "echo \"--end \" `date` `date +%s`\n",
    "\n",
    "    '''.format(**dict_pars)\n",
    "    with open(fname,'w') as f: f.write(submit_strg)\n"
   ]
  },
  {
   "cell_type": "code",
   "execution_count": 8,
   "metadata": {},
   "outputs": [],
   "source": [
    "run_dir='/usr/workspace/lsd/ayyar1/projects/SU4_sdm/runs_Grid/2023_june15_mobius/dm_tests/phase_diagram_mobius_Ls8/'"
   ]
  },
  {
   "cell_type": "code",
   "execution_count": 13,
   "metadata": {},
   "outputs": [],
   "source": [
    "Lx=16; Lt=8\n",
    "N=1\n",
    "mx,my,mz,mt=2,2,2,1\n",
    "Ls=16\n",
    "dict_pars={\n",
    "    'Lx':Lx, 'Lt':Lt, # Lattice size \n",
    "    'F_action': 'Mobius_dwf',\n",
    "    \n",
    "    'traj_l':1, 'md_steps':10, \n",
    "#     'beta':beta, 'mf':mf, \n",
    "    'dwf_Ls':Ls, \n",
    "    'mpi':\".\".join([str(i) for i in [mx,my,mz,mt]]),\n",
    "    'nprocs': mx*my*mz*mt,\n",
    "    'N':N  ## Number of nodes\n",
    "          }"
   ]
  },
  {
   "cell_type": "code",
   "execution_count": 14,
   "metadata": {},
   "outputs": [
    {
     "name": "stdout",
     "output_type": "stream",
     "text": [
      "{'Lx': 16, 'Lt': 8, 'F_action': 'Mobius_dwf', 'traj_l': 1, 'md_steps': 10, 'dwf_Ls': 16, 'mpi': '2.2.2.1', 'nprocs': 8, 'N': 1}\n"
     ]
    }
   ],
   "source": [
    "print(dict_pars)"
   ]
  },
  {
   "cell_type": "code",
   "execution_count": 15,
   "metadata": {},
   "outputs": [
    {
     "name": "stdout",
     "output_type": "stream",
     "text": [
      "/usr/workspace/lsd/ayyar1/projects/SU4_sdm/runs_Grid/2023_june15_mobius/dm_tests/phase_diagram_mobius_Ls8/run_Lx-16_Lt-8_Ls-16_beta-10.0_mf-0.1/\n",
      "/usr/workspace/lsd/ayyar1/projects/SU4_sdm/runs_Grid/2023_june15_mobius/dm_tests/phase_diagram_mobius_Ls8/run_Lx-16_Lt-8_Ls-16_beta-10.8_mf-0.1/\n",
      "/usr/workspace/lsd/ayyar1/projects/SU4_sdm/runs_Grid/2023_june15_mobius/dm_tests/phase_diagram_mobius_Ls8/run_Lx-16_Lt-8_Ls-16_beta-12.0_mf-0.1/\n"
     ]
    }
   ],
   "source": [
    "beta_list=[10.0,10.8,12.0]\n",
    "m_list=[0.1]\n",
    "\n",
    "for beta in beta_list:\n",
    "    for mf in m_list:\n",
    "        dict_pars['beta']=beta\n",
    "        dict_pars['mf']=mf\n",
    "\n",
    "        strg='run_Lx-%s_Lt-%s_Ls-%s_beta-%s_mf-%s'%(Lx,Lt,Ls,beta,mf)\n",
    "        fldr=run_dir+'%s/'%(strg)\n",
    "\n",
    "        print(fldr)\n",
    "\n",
    "        if os.path.exists(fldr): \n",
    "            print(\"Error: Directory %s exists\",fldr)\n",
    "            raise SystemError\n",
    "        else:\n",
    "            os.makedirs(run_dir+'/{0}'.format(strg))\n",
    "        #     shutil.copy(src,fldr)\n",
    "            fname=fldr+'submit_2_dwf-hsdm.sh'\n",
    "            f_build_submit_script(dict_pars,fname)\n",
    "\n",
    "            fname=fldr+'config.yaml'\n",
    "            f_write_config(dict_pars,fname)\n",
    "\n"
   ]
  },
  {
   "cell_type": "markdown",
   "metadata": {},
   "source": [
    "### Code to rename folders\n",
    "test_dir=run_dir+'../new_runs/test/'\n",
    "os.chdir(test_dir)\n",
    "fldr_lst=glob.glob('run_L*')\n",
    "print(fldr_lst)\n",
    "for src in fldr_lst:\n",
    "     target=src.replace('run_Ls','run_Lx')\n",
    "     print(src,target)\n",
    "     os.rename(src,target)"
   ]
  },
  {
   "cell_type": "code",
   "execution_count": 12,
   "metadata": {},
   "outputs": [
    {
     "name": "stdout",
     "output_type": "stream",
     "text": [
      "old_runs_small_beta\r\n",
      "run_Lx-16_Lt-32_Ls-16_beta-10.8_mf-0.02\r\n",
      "run_Lx-16_Lt-32_Ls-16_beta-10.8_mf-0.1\r\n",
      "run_Lx-16_Lt-32_Ls-32_beta-10.8_mf-0.02\r\n",
      "run_Lx-16_Lt-32_Ls-32_beta-10.8_mf-0.1\r\n",
      "run_Lx-16_Lt-32_Ls-8_beta-10.8_mf-0.1\r\n"
     ]
    }
   ],
   "source": [
    "! ls /usr/workspace/lsd/ayyar1/projects/SU4_sdm/runs_Grid/2023_june15_mobius/dm_tests/phase_diagram_mobius_Ls8/"
   ]
  },
  {
   "cell_type": "code",
   "execution_count": null,
   "metadata": {},
   "outputs": [],
   "source": []
  }
 ],
 "metadata": {
  "kernelspec": {
   "display_name": "v38",
   "language": "python",
   "name": "vpy38"
  },
  "language_info": {
   "codemirror_mode": {
    "name": "ipython",
    "version": 3
   },
   "file_extension": ".py",
   "mimetype": "text/x-python",
   "name": "python",
   "nbconvert_exporter": "python",
   "pygments_lexer": "ipython3",
   "version": "3.8.15"
  }
 },
 "nbformat": 4,
 "nbformat_minor": 4
}
