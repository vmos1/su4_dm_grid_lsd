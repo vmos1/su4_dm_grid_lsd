{
 "cells": [
  {
   "cell_type": "markdown",
   "metadata": {},
   "source": [
    "# Code to generate submit script for extending HMC run\n",
    "July 20, 2023"
   ]
  },
  {
   "cell_type": "code",
   "execution_count": 1,
   "metadata": {},
   "outputs": [],
   "source": [
    "import numpy as np\n",
    "import os\n",
    "import argparse\n",
    "import subprocess as sp\n",
    "import shutil\n",
    "import glob\n",
    "\n",
    "import yaml"
   ]
  },
  {
   "cell_type": "code",
   "execution_count": 2,
   "metadata": {},
   "outputs": [],
   "source": [
    "def f_write_config(input_dict,fname):\n",
    "    \n",
    "    with open(fname,'w') as f:\n",
    "        yaml.dump(input_dict,f,sort_keys=False)\n",
    "        \n",
    "        \n",
    "def f_read_config(fname):\n",
    "    \n",
    "    with open(fname,'r') as f:\n",
    "        config_dict=yaml.load(f, Loader=yaml.SafeLoader)\n",
    "        \n",
    "    return config_dict\n"
   ]
  },
  {
   "cell_type": "code",
   "execution_count": 3,
   "metadata": {},
   "outputs": [],
   "source": [
    "def f_build_submit_script(dict_pars,fname):\n",
    "    \n",
    "    submit_strg='''#!/bin/bash\n",
    "################\n",
    "# Begin LSF Directives\n",
    "#SBATCH -A latticgc\n",
    "#SBATCH -t 00:10:00\n",
    "#SBATCH -J hsdm\n",
    "#SBATCH -o hsdm.%J\n",
    "#SBATCH -e hsdm.%J\n",
    "#SBATCH -N {N}\n",
    "#SBATCH -n {nprocs}\n",
    "#SBATCH --exclusive\n",
    "#SBATCH --gpu-bind=map_gpu:0,1,2,3,7,6,5,4\n",
    "#SBATCH -c 1\n",
    "###SBATCH --threads-per-core=1\n",
    "\n",
    "echo \"--start \" `date` `date +%s`\n",
    "\n",
    "export BIND=\"--cpu-bind=verbose,map_ldom:3,3,1,1,2,2,0,0\"\n",
    "\n",
    "export MPIR_CVAR_GPU_EAGER_DEVICE_MEM=16384\n",
    "export MPICH_GPU_SUPPORT_ENABLED=1\n",
    "export MPICH_SMP_SINGLE_COPY_MODE=CMA\n",
    "export OMP_NUM_THREADS=8\n",
    "export MPICH_OFI_NIC_POLICY=GPU\n",
    "export OPT=\"--comms-concurrent --comms-overlap \"\n",
    "\n",
    "source $GRID_DIR/setup_env.sh\n",
    "export TSAN_OPTIONS='ignore_noninstrumented_modules=1'\n",
    "export LD_LIBRARY_PATH\n",
    "\n",
    "Ls={dwf_Ls}\n",
    "traj_l={traj_l}\n",
    "md_steps={md_steps}\n",
    "BETA={beta}\n",
    "M_F={mf}\n",
    "\n",
    "APP=\"$RUN_DIR/build/dweofa_mobius_HSDM --grid {Lx}.{Lx}.{Lx}.{Lt} --mpi {mpi} --shm 2048 --shm-force-mpi 1 --device-mem 5000 --StartingType {start_type} --StartingTrajectory {start_traj} --Trajectories {total_traj} --Thermalizations 0 $OPT $Ls $traj_l $md_steps $BETA $M_F\"\n",
    "#srun --gpus-per-task 1 -n64 $BIND $APP > HSDM.out\n",
    "#srun --gpus-per-task 1 -n64 $APP > HSDM.out\n",
    "srun -n{nprocs} -o {out_file} $APP\n",
    "\n",
    "echo \"--end \" `date` `date +%s`\n",
    "\n",
    "    '''.format(**dict_pars)\n",
    "    with open(fname,'w') as f: f.write(submit_strg)\n"
   ]
  },
  {
   "cell_type": "code",
   "execution_count": 4,
   "metadata": {},
   "outputs": [],
   "source": [
    "def f_get_last_checkpoint(run_dir):\n",
    "\n",
    "    checkpt_list=np.sort([int(i.split('/')[-1].split('_lat.')[-1]) for i in glob.glob(run_dir+'/ckpoint_lat*')])\n",
    "\n",
    "    return checkpt_list[-1]\n",
    "\n",
    "def f_get_out_filename(run_dir):\n",
    "    count=2\n",
    "    fname=run_dir+'/HSDM%s.out'%(count)\n",
    "\n",
    "    while os.path.exists(fname): \n",
    "        count+=1\n",
    "        if count>5:    \n",
    "            print(\"Too many extend runs. Please check\")\n",
    "            break\n",
    "\n",
    "        print(\"File exists: \",fname)\n",
    "        fname=run_dir+'/HSDM%s.out'%(count)\n",
    "        print(\"Modifying output file name to \",fname)\n",
    "\n",
    "    return fname.split('/')[-1]\n",
    "    "
   ]
  },
  {
   "cell_type": "code",
   "execution_count": 5,
   "metadata": {},
   "outputs": [],
   "source": [
    "# fldr='/usr/WS2/lsd/ayyar1/projects/SU4_sdm/runs_Grid/2023_july12/runs/phase_diagram_4_cold_start/run_Lx-16_Lt-8_Ls-16_beta-12.5_mf-0.1'\n",
    "\n",
    "fldr='/usr/workspace/lsd/ayyar1/projects/SU4_sdm/runs_Grid/2023_july12/runs/phase_diagram_5_hot_start/run_Lx-16_Lt-8_Ls-16_beta-13.0_mf-0.1'\n"
   ]
  },
  {
   "cell_type": "code",
   "execution_count": 6,
   "metadata": {},
   "outputs": [
    {
     "name": "stdout",
     "output_type": "stream",
     "text": [
      "Last checkpoint 200\n",
      "{'Lx': 16, 'Lt': 8, 'F_action': 'Mobius_dwf', 'traj_l': 2, 'md_steps': 15, 'dwf_Ls': 16, 'mpi': '2.2.2.1', 'nprocs': 8, 'N': 1, 'start_type': 'CheckpointStart', 'beta': 13.0, 'mf': 0.1, 'start_traj': 200, 'out_file': 'HSDM2.out', 'total_traj': 400}\n"
     ]
    }
   ],
   "source": [
    "\n",
    "print(\"Last checkpoint\",f_get_last_checkpoint(fldr))\n",
    "# f_get_out_filename(fldr)\n",
    "\n",
    "input_dict=f_read_config(fldr+'/config.yaml')\n",
    "\n",
    "dict_pars={}\n",
    "for key in input_dict.keys():\n",
    "    dict_pars[key]=input_dict[key]\n",
    "    \n",
    "dict_pars.update({\n",
    "    'start_type': 'CheckpointStart',   # Valid [HotStart, ColdStart, TepidStart, CheckpointStart]\n",
    "    'start_traj': f_get_last_checkpoint(fldr),\n",
    "    'out_file': f_get_out_filename(fldr),\n",
    "    'total_traj': 400\n",
    "          })\n",
    "    \n",
    "print(dict_pars)"
   ]
  },
  {
   "cell_type": "code",
   "execution_count": 7,
   "metadata": {},
   "outputs": [],
   "source": [
    "assert os.path.exists(fldr), \"Top directory %s doesn't exist\"%(fldr)\n",
    "fname=fldr+'/submit_3_dwf-hsdm.sh'\n",
    "f_build_submit_script(dict_pars,fname)\n"
   ]
  },
  {
   "cell_type": "code",
   "execution_count": null,
   "metadata": {},
   "outputs": [],
   "source": []
  }
 ],
 "metadata": {
  "kernelspec": {
   "display_name": "v38",
   "language": "python",
   "name": "vpy38"
  },
  "language_info": {
   "codemirror_mode": {
    "name": "ipython",
    "version": 3
   },
   "file_extension": ".py",
   "mimetype": "text/x-python",
   "name": "python",
   "nbconvert_exporter": "python",
   "pygments_lexer": "ipython3",
   "version": "3.8.15"
  }
 },
 "nbformat": 4,
 "nbformat_minor": 4
}
