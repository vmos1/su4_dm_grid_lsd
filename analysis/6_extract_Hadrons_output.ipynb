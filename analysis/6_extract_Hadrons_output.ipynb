{
 "cells": [
  {
   "cell_type": "markdown",
   "metadata": {},
   "source": [
    "# Analyze output of .hdf5 files of hadrons code\n",
    "June 12, 2023"
   ]
  },
  {
   "cell_type": "code",
   "execution_count": 1,
   "metadata": {},
   "outputs": [],
   "source": [
    "import numpy as np\n",
    "import matplotlib.pyplot as plt"
   ]
  },
  {
   "cell_type": "code",
   "execution_count": 2,
   "metadata": {},
   "outputs": [],
   "source": [
    "import subprocess as sp\n",
    "import os \n",
    "import glob\n",
    "import pandas as pd\n",
    "import itertools"
   ]
  },
  {
   "cell_type": "code",
   "execution_count": 3,
   "metadata": {},
   "outputs": [],
   "source": [
    "import gvar as gv\n",
    "import h5py"
   ]
  },
  {
   "cell_type": "code",
   "execution_count": 4,
   "metadata": {},
   "outputs": [],
   "source": [
    "%matplotlib notebook"
   ]
  },
  {
   "cell_type": "code",
   "execution_count": 5,
   "metadata": {},
   "outputs": [],
   "source": [
    "output_dir='/usr/WS2/lsd/ayyar1/projects/SU4_sdm/runs_Grid/2023_march14/measurements_hadrons/runs/data_from_Oliver/test1/tioga-39636/'\n",
    "\n",
    "f1='eta_s_2pt.140.h5'\n",
    "f2='prop_gauge_DWF.140.h5'\n"
   ]
  },
  {
   "cell_type": "code",
   "execution_count": 6,
   "metadata": {},
   "outputs": [],
   "source": [
    "#  ## Code to explore hdf5 data\n",
    "# def get_ds_dictionaries(name, node):\n",
    "  \n",
    "#     fullname = node.name\n",
    "#     if isinstance(node, h5py.Dataset):\n",
    "#     # node is a dataset\n",
    "#         print(f'Dataset: {fullname}; adding to dictionary')\n",
    "#         ds_dict[fullname] = node[:]\n",
    "#         print('ds_dict size', len(ds_dict)) \n",
    "#     else:\n",
    "#      # node is a group\n",
    "#         print(f'Group: {fullname}; skipping')  \n",
    "    \n",
    "    \n",
    "# ds_dict= {}    \n",
    "# with h5py.File(output_dir+f1) as hf:\n",
    "#     print(hf.visititems(get_ds_dictionaries))\n",
    "# print(ds_dict)\n",
    "\n",
    "# ds_dict= {}    \n",
    "# with h5py.File(output_dir+f2) as hf:\n",
    "#     print(hf.visititems(get_ds_dictionaries))\n",
    "# print(ds_dict)\n",
    "    \n",
    "    "
   ]
  },
  {
   "cell_type": "code",
   "execution_count": 14,
   "metadata": {},
   "outputs": [
    {
     "name": "stdout",
     "output_type": "stream",
     "text": [
      "<KeysViewHDF5 ['meson']>\n",
      "corr\n",
      "(0.6506867, 4.04449173e-19)\n",
      "(0.23394687, 1.19199742e-20)\n",
      "(0.04209618, -1.72267055e-20)\n",
      "(0.01022852, -9.1084549e-22)\n",
      "(0.00461521, 1.61637198e-21)\n",
      "(0.01016807, -4.42754024e-21)\n",
      "(0.04082028, -1.06160851e-20)\n",
      "(0.22076431, 1.54943323e-20)\n"
     ]
    }
   ],
   "source": [
    "meson_dict={}\n",
    "with h5py.File(output_dir+f1) as hf:\n",
    "    print(hf.keys())\n",
    "#     print(hf['meson'].keys(),hf['meson'].values())\n",
    "    meson_dict['corr']=hf['meson']['meson_0']['corr'][:]\n",
    "    \n",
    "# meson_dict\n",
    "\n",
    "for key in meson_dict:\n",
    "    print(key)\n",
    "    for i in meson_dict[key]:\n",
    "        print(i)"
   ]
  },
  {
   "cell_type": "code",
   "execution_count": 12,
   "metadata": {},
   "outputs": [
    {
     "name": "stdout",
     "output_type": "stream",
     "text": [
      "<KeysViewHDF5 ['wardIdentity']>\n"
     ]
    }
   ],
   "source": [
    "wi_dict={}\n",
    "\n",
    "with h5py.File(output_dir+f2) as hf:\n",
    "    print(hf.keys())\n",
    "    for key1,value1 in hf['wardIdentity'].items():\n",
    "#         print(key1,value1)\n",
    "        a1=hf['wardIdentity'][key1]\n",
    "        wi_dict[key1]=a1[:]\n",
    "\n",
    "# wi_dict"
   ]
  },
  {
   "cell_type": "code",
   "execution_count": 13,
   "metadata": {},
   "outputs": [
    {
     "name": "stdout",
     "output_type": "stream",
     "text": [
      "DmuJmu\n",
      "(1.01646795e-19, -7.03230746e-12)\n",
      "(1.13126496e-19, -6.6382802e-12)\n",
      "(-2.20201773e-19, 2.35873396e-12)\n",
      "(-1.08777589e-19, 3.19420786e-13)\n",
      "(4.78368528e-21, 6.74532885e-13)\n",
      "(5.04314063e-20, 2.56470462e-12)\n",
      "(2.66245895e-19, 4.08452452e-12)\n",
      "(-2.07254915e-19, 3.66867089e-12)\n",
      "PA0\n",
      "(-0.21648593, 4.48226722e-19)\n",
      "(-0.04671056, -2.67742573e-19)\n",
      "(-0.01180503, 1.08459295e-20)\n",
      "(-0.00229452, -8.69447785e-21)\n",
      "(0.00242591, 5.72509385e-21)\n",
      "(0.01180772, 5.46437969e-20)\n",
      "(0.04515143, 1.65987071e-19)\n",
      "(0.20324029, 3.33807527e-19)\n",
      "PJ5q\n",
      "(0.01482658, -6.00317097e-21)\n",
      "(0.01002468, -5.55865495e-23)\n",
      "(0.00398199, 2.46736186e-22)\n",
      "(0.00148213, -1.29756743e-22)\n",
      "(0.00088335, -5.58288557e-23)\n",
      "(0.00143712, -8.64639569e-23)\n",
      "(0.00360937, 4.6189731e-22)\n",
      "(0.00839985, 1.69527414e-21)\n",
      "VDmuJmu\n",
      "(1.39540983e-11, 8.87512976e-19)\n",
      "(-6.80203073e-12, -1.79337554e-18)\n",
      "(-2.05048641e-12, 7.35574502e-20)\n",
      "(-1.42080512e-12, -1.22068973e-20)\n",
      "(-4.88739881e-13, 3.60633864e-21)\n",
      "(-5.14798273e-13, 4.36021797e-20)\n",
      "(-4.89116234e-13, -2.75100811e-19)\n",
      "(-2.18812165e-12, 1.07240431e-18)\n"
     ]
    }
   ],
   "source": [
    "for key in wi_dict:\n",
    "    print(key)\n",
    "    for i in wi_dict[key]:\n",
    "        print(i)"
   ]
  },
  {
   "cell_type": "code",
   "execution_count": null,
   "metadata": {},
   "outputs": [],
   "source": []
  },
  {
   "cell_type": "code",
   "execution_count": null,
   "metadata": {},
   "outputs": [],
   "source": []
  }
 ],
 "metadata": {
  "kernelspec": {
   "display_name": "v3",
   "language": "python",
   "name": "vpy39"
  },
  "language_info": {
   "codemirror_mode": {
    "name": "ipython",
    "version": 3
   },
   "file_extension": ".py",
   "mimetype": "text/x-python",
   "name": "python",
   "nbconvert_exporter": "python",
   "pygments_lexer": "ipython3",
   "version": "3.8.15"
  }
 },
 "nbformat": 4,
 "nbformat_minor": 4
}
