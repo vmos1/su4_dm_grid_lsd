{
 "cells": [
  {
   "cell_type": "markdown",
   "metadata": {},
   "source": [
    "# Code to generate folder for HMC run\n",
    "May 8, 2023"
   ]
  },
  {
   "cell_type": "code",
   "execution_count": 1,
   "metadata": {},
   "outputs": [],
   "source": [
    "import numpy as np\n",
    "import os\n",
    "import argparse\n",
    "import subprocess as sp\n",
    "import shutil\n",
    "import glob\n",
    "\n",
    "import yaml"
   ]
  },
  {
   "cell_type": "code",
   "execution_count": 2,
   "metadata": {},
   "outputs": [],
   "source": [
    "def f_write_config(input_dict,fname):\n",
    "    \n",
    "    with open(fname,'w') as f:\n",
    "        yaml.dump(input_dict,f,sort_keys=False)\n",
    "        \n",
    "def f_read_config(fname):\n",
    "    \n",
    "    with open(fname,'r') as f:\n",
    "        config_dict=yaml.load(f, Loader=yaml.SafeLoader)\n",
    "        \n",
    "    return config_dict\n"
   ]
  },
  {
   "cell_type": "code",
   "execution_count": 3,
   "metadata": {},
   "outputs": [],
   "source": [
    "\n",
    "def f_get_last_checkpoint(run_dir):\n",
    "    '''\n",
    "    Look through saved config files and find last saved configuration number\n",
    "    '''\n",
    "    checkpt_list=np.sort([int(i.split('/')[-1].split('_lat.')[-1]) for i in glob.glob(run_dir+'/ckpoint_lat*')])\n",
    "\n",
    "    return checkpt_list[-1]\n",
    "\n",
    "\n",
    "def f_get_out_filename(run_dir):\n",
    "    '''\n",
    "    Get the right file name for output such as  HSDM1.out, HSDM2.out , etc. based on number of extensions runs done\n",
    "    \n",
    "    '''\n",
    "    count=2\n",
    "    fname=run_dir+'/HSDM%s.out'%(count)\n",
    "\n",
    "    while os.path.exists(fname): \n",
    "        count+=1\n",
    "        if count>5:    \n",
    "            print(\"Too many extend runs. Please check\")\n",
    "            break\n",
    "\n",
    "        print(\"File exists: \",fname)\n",
    "        fname=run_dir+'HSDM%s.out'%(count)\n",
    "        print(\"Modifying output file name to \",fname)\n",
    "\n",
    "    return fname.split('/')[-1]"
   ]
  },
  {
   "cell_type": "code",
   "execution_count": 4,
   "metadata": {},
   "outputs": [],
   "source": [
    "def f_build_submit_script(dict_pars,fname,run_type):\n",
    "    '''\n",
    "    Build submit script for all run types\n",
    "    '''\n",
    "    \n",
    "    \n",
    "    if run_type=='fresh':\n",
    "        app_strg='\"$RUN_DIR/build/dweofa_mobius_HSDM --grid {Lx}.{Lx}.{Lx}.{Lt} --mpi {mpi} --shm 2048 --shm-force-mpi 1 --device-mem 5000 --StartingType {start_type} --Trajectories {total_traj} --Thermalizations {therm} $OPT $Ls $traj_l $md_steps $BETA $M_F\"'.format(**dict_pars)\n",
    "\n",
    "    elif run_type in ['checkpoint_start','extend']:\n",
    "        app_strg='\"$RUN_DIR/build/dweofa_mobius_HSDM --grid {Lx}.{Lx}.{Lx}.{Lt} --mpi {mpi} --shm 2048 --shm-force-mpi 1 --device-mem 5000 --StartingType {start_type} --StartingTrajectory {start_traj} --Trajectories {total_traj} --Thermalizations {therm} $OPT $Ls $traj_l $md_steps $BETA $M_F\"'.format(**dict_pars)\n",
    "\n",
    "    else: \n",
    "        print(\"Invalid run_type\",run_type)\n",
    "        raise SystemError\n",
    "\n",
    "    submit_strg='''#!/bin/bash\n",
    "################\n",
    "# Begin LSF Directives\n",
    "#SBATCH -A latticgc\n",
    "#SBATCH -t 00:10:00\n",
    "#SBATCH -J hsdm\n",
    "#SBATCH -o hsdm.%J\n",
    "#SBATCH -e hsdm.%J\n",
    "#SBATCH -N {N}\n",
    "#SBATCH -n {nprocs}\n",
    "#SBATCH --exclusive\n",
    "#SBATCH --gpu-bind=map_gpu:0,1,2,3,7,6,5,4\n",
    "#SBATCH -c 1\n",
    "###SBATCH --threads-per-core=1\n",
    "\n",
    "echo \"--start \" `date` `date +%s`\n",
    "\n",
    "export BIND=\"--cpu-bind=verbose,map_ldom:3,3,1,1,2,2,0,0\"\n",
    "\n",
    "export MPIR_CVAR_GPU_EAGER_DEVICE_MEM=16384\n",
    "export MPICH_GPU_SUPPORT_ENABLED=1\n",
    "export MPICH_SMP_SINGLE_COPY_MODE=CMA\n",
    "export OMP_NUM_THREADS=8\n",
    "export MPICH_OFI_NIC_POLICY=GPU\n",
    "export OPT=\"--comms-concurrent --comms-overlap \"\n",
    "\n",
    "source $GRID_DIR/setup_env.sh\n",
    "export TSAN_OPTIONS='ignore_noninstrumented_modules=1'\n",
    "export LD_LIBRARY_PATH\n",
    "\n",
    "Ls={dwf_Ls}\n",
    "traj_l={traj_l}\n",
    "md_steps={md_steps}\n",
    "BETA={beta}\n",
    "M_F={mf}\n",
    "\n",
    "APP={app}\n",
    "\n",
    "#srun --gpus-per-task 1 -n64 $BIND $APP > HSDM.out\n",
    "#srun --gpus-per-task 1 -n64 $APP > HSDM.out\n",
    "srun -n{nprocs} -o {out_file} $APP\n",
    "\n",
    "echo \"--end \" `date` `date +%s`\n",
    "\n",
    "    '''.format(app=app_strg,**dict_pars)\n",
    "    with open(fname,'w') as f: f.write(submit_strg)\n"
   ]
  },
  {
   "cell_type": "code",
   "execution_count": 6,
   "metadata": {},
   "outputs": [],
   "source": [
    "# run_dir='/usr/workspace/lsd/ayyar1/projects/SU4_sdm/runs_Grid/2023_july12/runs/phase_diagram_4_cold_start/'\n",
    "run_dir='/usr/workspace/lsd/ayyar1/projects/SU4_sdm/runs_Grid/2023_july12/runs/phase_diagram_5_hot_start/'\n",
    "# run_dir='/usr/workspace/lsd/ayyar1/projects/SU4_sdm/runs_Grid/2023_july12/runs/scaling_tests/'\n"
   ]
  },
  {
   "cell_type": "code",
   "execution_count": 14,
   "metadata": {},
   "outputs": [],
   "source": [
    "start_fldr='/usr/workspace/lsd/ayyar1/projects/SU4_sdm/runs_Grid/2023_july12/runs/phase_diagram_5_hot_start/run_Lx-16_Lt-8_Ls-16_beta-11.4_mf-0.1/'\n",
    "\n",
    "assert os.path.exists(start_fldr)\n"
   ]
  },
  {
   "cell_type": "code",
   "execution_count": 15,
   "metadata": {},
   "outputs": [],
   "source": [
    "## Define type of run"
   ]
  },
  {
   "cell_type": "code",
   "execution_count": 16,
   "metadata": {},
   "outputs": [],
   "source": [
    "### Options ['fresh','extend','checkpoint_start']\n",
    "    \n",
    "# run_type='checkpoint_start'\n",
    "\n",
    "run_type='extend'\n",
    "\n",
    "# run_type='fresh'\n"
   ]
  },
  {
   "cell_type": "code",
   "execution_count": 17,
   "metadata": {},
   "outputs": [],
   "source": [
    "## Fresh\n",
    "\n",
    "if run_type=='fresh':\n",
    "\n",
    "    Lx=16\n",
    "    Lt=8\n",
    "    N=1\n",
    "    mx,my,mz,mt=2,2,2,1\n",
    "    Ls=16\n",
    "    dict_pars={\n",
    "        'Lx':Lx, 'Lt':Lt, # Lattice size \n",
    "        'F_action': 'Mobius_dwf',\n",
    "\n",
    "        'traj_l':2, 'md_steps':15, \n",
    "    #     'beta':beta, 'mf':mf, \n",
    "        'dwf_Ls':Ls, \n",
    "        'mpi':\".\".join([str(i) for i in [mx,my,mz,mt]]),\n",
    "        'nprocs': mx*my*mz*mt,\n",
    "        'N':N,  ## Number of nodes\n",
    "        'total_traj': 200,\n",
    "        'start_type': 'HotStart',   # Valid [HotStart, ColdStart, TepidStart, CheckpointStart]\n",
    "        'therm': 10,\n",
    "        'out_file': 'HSDM1.out'\n",
    "              }"
   ]
  },
  {
   "cell_type": "code",
   "execution_count": 18,
   "metadata": {},
   "outputs": [],
   "source": [
    "## checkpoint_start\n",
    "\n",
    "if run_type=='checkpoint_start':\n",
    "    \n",
    "    last=f_get_last_checkpoint(start_fldr)\n",
    "    print(last)\n",
    "    config_file=start_fldr+'ckpoint_lat.%s'%(last)\n",
    "    assert os.path.isfile(config_file) ,\"File doesn't exist\"\n",
    "    \n",
    "    Lx=24; Lt=12\n",
    "    N=1\n",
    "    mx,my,mz,mt=2,2,2,1\n",
    "    Ls=16\n",
    "    dict_pars={\n",
    "        'Lx':Lx, 'Lt':Lt, # Lattice size \n",
    "        'F_action': 'Mobius_dwf',\n",
    "\n",
    "        'traj_l':2, 'md_steps':15, \n",
    "#         'beta':14.0, 'mf':0.1, \n",
    "        'dwf_Ls':Ls, \n",
    "        'mpi':\".\".join([str(i) for i in [mx,my,mz,mt]]),\n",
    "        'nprocs': mx*my*mz*mt,\n",
    "        'N':N, \n",
    "        'total_traj': 200,\n",
    "        'start_type': 'CheckpointStart',   # Valid [HotStart, ColdStart, TepidStart, CheckpointStart]\n",
    "        'start_traj': 0,\n",
    "        'start_config': config_file,\n",
    "        'therm':0, ## Thermalization ( non-zero for fresh run )\n",
    "        'out_file': 'HSDM1.out'\n",
    "              }\n"
   ]
  },
  {
   "cell_type": "code",
   "execution_count": 19,
   "metadata": {},
   "outputs": [
    {
     "name": "stdout",
     "output_type": "stream",
     "text": [
      "710\n",
      "Last checkpoint 710\n",
      "File exists:  /usr/workspace/lsd/ayyar1/projects/SU4_sdm/runs_Grid/2023_july12/runs/phase_diagram_5_hot_start/run_Lx-16_Lt-8_Ls-16_beta-11.4_mf-0.1//HSDM2.out\n",
      "Modifying output file name to  /usr/workspace/lsd/ayyar1/projects/SU4_sdm/runs_Grid/2023_july12/runs/phase_diagram_5_hot_start/run_Lx-16_Lt-8_Ls-16_beta-11.4_mf-0.1/HSDM3.out\n"
     ]
    }
   ],
   "source": [
    "## Extend run\n",
    "\n",
    "if run_type==\"extend\":\n",
    "\n",
    "    last=f_get_last_checkpoint(start_fldr)\n",
    "    print(last)\n",
    "    config_file=start_fldr+'ckpoint_lat.%s'%(last)\n",
    "    \n",
    "    print(\"Last checkpoint\",last)\n",
    "\n",
    "    input_dict=f_read_config(start_fldr+'/config.yaml')\n",
    "\n",
    "    dict_pars={}\n",
    "    for key in input_dict.keys():\n",
    "        dict_pars[key]=input_dict[key]\n",
    "\n",
    "    dict_pars.update({\n",
    "        'start_type': 'CheckpointStart',   # Valid [HotStart, ColdStart, TepidStart, CheckpointStart]\n",
    "        'start_traj': f_get_last_checkpoint(start_fldr),\n",
    "        'out_file': f_get_out_filename(start_fldr),\n",
    "        'total_traj': 500,\n",
    "        'therm': 0,\n",
    "        'starg_config': config_file,\n",
    "              })"
   ]
  },
  {
   "cell_type": "code",
   "execution_count": 20,
   "metadata": {},
   "outputs": [
    {
     "name": "stdout",
     "output_type": "stream",
     "text": [
      "{'Lx': 16, 'Lt': 8, 'F_action': 'Mobius_dwf', 'traj_l': 2, 'md_steps': 15, 'dwf_Ls': 16, 'mpi': '2.2.2.1', 'nprocs': 8, 'N': 1, 'start_type': 'CheckpointStart', 'beta': 11.4, 'mf': 0.1, 'start_traj': 710, 'out_file': 'HSDM3.out', 'total_traj': 500, 'therm': 0, 'starg_config': '/usr/workspace/lsd/ayyar1/projects/SU4_sdm/runs_Grid/2023_july12/runs/phase_diagram_5_hot_start/run_Lx-16_Lt-8_Ls-16_beta-11.4_mf-0.1/ckpoint_lat.710'}\n"
     ]
    }
   ],
   "source": [
    "print(dict_pars)"
   ]
  },
  {
   "cell_type": "markdown",
   "metadata": {},
   "source": [
    "## Build directories and copy files"
   ]
  },
  {
   "cell_type": "code",
   "execution_count": 21,
   "metadata": {},
   "outputs": [],
   "source": [
    "if run_type=='extend':\n",
    "    assert os.path.exists(start_fldr), \"Top directory %s doesn't exist\"%(start_fldr)\n",
    "    fname=start_fldr+'/submit_3_dwf-hsdm.sh'\n",
    "    f_build_submit_script(dict_pars,fname,run_type)\n",
    "\n",
    "    \n",
    "elif run_type in ['fresh','checkpoint_start'] : \n",
    "    # beta_list=[10.0+0.2*i for i in range(11)]\n",
    "    beta_list=[11.3]\n",
    "    m_list=[0.1]\n",
    "\n",
    "    for beta in beta_list:\n",
    "        for mf in m_list:\n",
    "            dict_pars['beta']=beta\n",
    "            dict_pars['mf']=mf\n",
    "\n",
    "            strg='run_Lx-%s_Lt-%s_Ls-%s_beta-%s_mf-%s'%(Lx,Lt,Ls,beta,mf)\n",
    "            fldr=run_dir+'%s/'%(strg)\n",
    "\n",
    "            print(fldr)\n",
    "\n",
    "            if os.path.exists(fldr): \n",
    "                print(\"Error: Directory %s exists\",fldr)\n",
    "                raise SystemError\n",
    "            else:\n",
    "                os.makedirs(run_dir+'/{0}'.format(strg))\n",
    "                fname=fldr+'submit_2_dwf-hsdm.sh'\n",
    "                f_build_submit_script(dict_pars,fname,run_type)\n",
    "\n",
    "                fname=fldr+'config.yaml'\n",
    "                f_write_config(dict_pars,fname)\n",
    "\n",
    "            if run_type=='checkpoint_start':\n",
    "                print(\"Copy start config from the last config %s in %s\"%(last,start_fldr))\n",
    "                shutil.copy(start_fldr+'/'+'ckpoint_lat.%s'%(last), fldr+'/ckpoint_lat.0')\n",
    "                shutil.copy(start_fldr+'/'+'ckpoint_rng.%s'%(last), fldr+'/ckpoint_rng.0')\n",
    "                \n",
    "                \n",
    "else: \n",
    "    print(\"Invalid run_type\",run_type)\n",
    "    raise SystemError"
   ]
  },
  {
   "cell_type": "markdown",
   "metadata": {},
   "source": [
    "### Code to rename folders\n",
    "test_dir=run_dir+'../new_runs/test/'\n",
    "os.chdir(test_dir)\n",
    "fldr_lst=glob.glob('run_L*')\n",
    "print(fldr_lst)\n",
    "for src in fldr_lst:\n",
    "     target=src.replace('run_Ls','run_Lx')\n",
    "     print(src,target)\n",
    "     os.rename(src,target)"
   ]
  },
  {
   "cell_type": "code",
   "execution_count": null,
   "metadata": {},
   "outputs": [],
   "source": []
  },
  {
   "cell_type": "code",
   "execution_count": null,
   "metadata": {},
   "outputs": [],
   "source": []
  }
 ],
 "metadata": {
  "kernelspec": {
   "display_name": "v38",
   "language": "python",
   "name": "vpy38"
  },
  "language_info": {
   "codemirror_mode": {
    "name": "ipython",
    "version": 3
   },
   "file_extension": ".py",
   "mimetype": "text/x-python",
   "name": "python",
   "nbconvert_exporter": "python",
   "pygments_lexer": "ipython3",
   "version": "3.8.15"
  }
 },
 "nbformat": 4,
 "nbformat_minor": 4
}
