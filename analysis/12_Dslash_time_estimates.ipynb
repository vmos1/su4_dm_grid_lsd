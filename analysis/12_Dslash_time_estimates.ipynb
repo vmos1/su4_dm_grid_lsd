{
 "cells": [
  {
   "cell_type": "code",
   "execution_count": 1,
   "id": "e402bd5a-a06f-4ff7-b2a1-454a1bb573e1",
   "metadata": {
    "tags": []
   },
   "outputs": [],
   "source": [
    "import numpy as np"
   ]
  },
  {
   "cell_type": "code",
   "execution_count": 4,
   "id": "0ff1ae0f-2032-4e36-859f-a91247825515",
   "metadata": {
    "tags": []
   },
   "outputs": [
    {
     "data": {
      "text/plain": [
       "5242.88"
      ]
     },
     "execution_count": 4,
     "metadata": {},
     "output_type": "execute_result"
    }
   ],
   "source": [
    "((10000) * (16**3) * 8 *16 ) / (1e6)"
   ]
  },
  {
   "cell_type": "code",
   "execution_count": 13,
   "id": "9e0f67f0-5f9a-4a39-94bd-2d664461b960",
   "metadata": {
    "tags": []
   },
   "outputs": [
    {
     "data": {
      "text/plain": [
       "178257.92"
      ]
     },
     "execution_count": 13,
     "metadata": {},
     "output_type": "execute_result"
    }
   ],
   "source": [
    "# Megaflops\n",
    "(1000 * (16**3) * 8 *16 ) *(1000) *(17)* 2  / ( (1e6) * 100 ) "
   ]
  },
  {
   "cell_type": "markdown",
   "id": "6123d699-e003-42dc-85f9-a71d7d175d14",
   "metadata": {},
   "source": [
    "### 100 seconds for 15 * 2 + 2 inversions\n",
    "\n",
    "\n",
    "### 0.2 Tflops\n",
    "\n",
    "### Tioga estimate : 5800 Tflops"
   ]
  },
  {
   "cell_type": "markdown",
   "id": "5f819183-3bc7-451c-8762-d03aafc72f33",
   "metadata": {},
   "source": [
    "#### Check number of CG for single inversion"
   ]
  },
  {
   "cell_type": "code",
   "execution_count": null,
   "id": "1269ae10-73f0-4f65-8df1-15999d2017cb",
   "metadata": {},
   "outputs": [],
   "source": []
  }
 ],
 "metadata": {
  "kernelspec": {
   "display_name": "v_py3",
   "language": "python",
   "name": "v_jpt_py3"
  },
  "language_info": {
   "codemirror_mode": {
    "name": "ipython",
    "version": 3
   },
   "file_extension": ".py",
   "mimetype": "text/x-python",
   "name": "python",
   "nbconvert_exporter": "python",
   "pygments_lexer": "ipython3",
   "version": "3.9.18"
  }
 },
 "nbformat": 4,
 "nbformat_minor": 5
}
