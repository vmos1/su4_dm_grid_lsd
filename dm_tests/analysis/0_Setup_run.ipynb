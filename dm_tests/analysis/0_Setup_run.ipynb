{
 "cells": [
  {
   "cell_type": "markdown",
   "metadata": {},
   "source": [
    "# Code to generate folder, modify \n",
    "May 8, 2023"
   ]
  },
  {
   "cell_type": "code",
   "execution_count": 1,
   "metadata": {},
   "outputs": [],
   "source": [
    "import numpy as np\n",
    "import os\n",
    "import argparse\n",
    "import subprocess as sp\n",
    "import shutil\n",
    "import glob"
   ]
  },
  {
   "cell_type": "code",
   "execution_count": 2,
   "metadata": {},
   "outputs": [],
   "source": [
    "run_dir='/usr/workspace/lsd/ayyar1/projects/SU4_sdm/runs_Grid/2023_march14/dm_tests/runs/'\n",
    "src='/g/g92/ayyar1/lsd_project_docs/su4_dm_grid_lsd/dm_tests/run_tioga/submit_2_dwhsdm.sh'\n"
   ]
  },
  {
   "cell_type": "code",
   "execution_count": 3,
   "metadata": {},
   "outputs": [],
   "source": [
    "\n",
    "def f_build_submit_script(dict_pars,fname):\n",
    "    \n",
    "    submit_strg='''#!/bin/bash\n",
    "################\n",
    "# Begin LSF Directives\n",
    "#SBATCH -A latticgc\n",
    "#SBATCH -t 00:10:00\n",
    "#SBATCH -J hsdm8nodes\n",
    "#SBATCH -o hsdm8nodes.%J\n",
    "#SBATCH -e hsdm8nodes.%J\n",
    "#SBATCH -N {N}\n",
    "#SBATCH -n 8\n",
    "#SBATCH --exclusive\n",
    "#SBATCH --gpu-bind=map_gpu:0,1,2,3,7,6,5,4\n",
    "#SBATCH -c 8\n",
    "###SBATCH --threads-per-core=1\n",
    "\n",
    "echo \"--start \" `date` `date +%s`\n",
    "\n",
    "export BIND=\"--cpu-bind=verbose,map_ldom:3,3,1,1,2,2,0,0\"\n",
    "\n",
    "export MPIR_CVAR_GPU_EAGER_DEVICE_MEM=16384\n",
    "export MPICH_GPU_SUPPORT_ENABLED=1\n",
    "export MPICH_SMP_SINGLE_COPY_MODE=CMA\n",
    "export OMP_NUM_THREADS=8\n",
    "export MPICH_OFI_NIC_POLICY=GPU\n",
    "export OPT=\"--comms-concurrent --comms-overlap \"\n",
    "\n",
    "source $GRID_DIR/setup_env.sh\n",
    "export TSAN_OPTIONS='ignore_noninstrumented_modules=1'\n",
    "export LD_LIBRARY_PATH\n",
    "\n",
    "Ls={ls}\n",
    "traj_l={traj_l}\n",
    "md_steps={md_steps}\n",
    "BETA={beta}\n",
    "M_F={mf}\n",
    "\n",
    "APP=\"$RUN_DIR/dm_tests/build/dweofa_HSDM --grid 16.16.16.8 --mpi 4.4.2.2 --shm 2048 --shm-force-mpi 1 --device-mem 5000 --Trajectories 200 --Thermalizations 10 $OPT $Ls $traj_l $md_steps $BETA $M_F\"\n",
    "#srun --gpus-per-task 1 -n64 $BIND $APP > HSDM.out\n",
    "#srun --gpus-per-task 1 -n64 $APP > HSDM.out\n",
    "srun -n64 $APP > HSDM.out\n",
    "\n",
    "echo \"--end \" `date` `date +%s`\n",
    "\n",
    "    '''.format(**dict_pars)\n",
    "    with open(fname,'w') as f: f.write(submit_strg)\n"
   ]
  },
  {
   "cell_type": "code",
   "execution_count": 9,
   "metadata": {},
   "outputs": [],
   "source": [
    "Lx=16\n",
    "Lt=8\n",
    "beta=10.9\n",
    "mf=0.6443\n",
    "\n",
    "\n",
    "dict_pars={'ls':4, 'traj_l':1, 'md_steps':10, # ls=DWF 5th dim size\n",
    "            'beta':beta, 'mf':mf , \n",
    "          'Lx':Lx, 'Lt':Lt, # Lattice size \n",
    "          'N':8  ## Number of nodes\n",
    "          }\n"
   ]
  },
  {
   "cell_type": "code",
   "execution_count": 10,
   "metadata": {},
   "outputs": [
    {
     "name": "stdout",
     "output_type": "stream",
     "text": [
      "/usr/workspace/lsd/ayyar1/projects/SU4_sdm/runs_Grid/2023_march14/dm_tests/runs/run_Lx-16_Lt-8_beta-10.9_mf-0.6443/\n"
     ]
    }
   ],
   "source": [
    "strg='run_Lx-%s_Lt-%s_beta-%s_mf-%s'%(Lx,Lt,beta,mf)\n",
    "fldr=run_dir+'%s/'%(strg)\n",
    "\n",
    "print(fldr)\n",
    "\n",
    "if os.path.exists(fldr): \n",
    "    print(\"Error: Directory %s exists\",fldr)\n",
    "    \n",
    "else: \n",
    "    os.makedirs(run_dir+'/{0}'.format(strg))\n",
    "    shutil.copy(src,fldr)\n",
    "    fname=fldr+'submit_2_dwhsdm.sh'\n",
    "    f_build_submit_script(dict_pars,fname)\n",
    "    \n",
    "#     cmd='sed -i \"34 s/BETA=.*/BETA=%s/\" %s'%(beta,fname) \n",
    "#     print(cmd)\n",
    "#     sp.check_output(cmd,shell=True)\n",
    "#     cmd='sed -i \"35 s/M_F=.*/M_F=%s/\" %s'%(mf,fname) \n",
    "#     print(cmd)\n",
    "#     sp.check_output(cmd,shell=True)\n",
    "    \n",
    "#     pass\n",
    "\n"
   ]
  },
  {
   "cell_type": "markdown",
   "metadata": {},
   "source": [
    "### Code to rename folders\n",
    "os.chdir(run_dir)\n",
    "fldr_lst=glob.glob('run_L*')\n",
    "print(fldr_lst)\n",
    "for src in fldr_lst:\n",
    "     target=src.replace('run_Ls','run_Lx')\n",
    "     print(src,target)\n",
    "     os.rename(src,target)"
   ]
  },
  {
   "cell_type": "code",
   "execution_count": null,
   "metadata": {},
   "outputs": [],
   "source": []
  }
 ],
 "metadata": {
  "kernelspec": {
   "display_name": "v3",
   "language": "python",
   "name": "vpy39"
  },
  "language_info": {
   "codemirror_mode": {
    "name": "ipython",
    "version": 3
   },
   "file_extension": ".py",
   "mimetype": "text/x-python",
   "name": "python",
   "nbconvert_exporter": "python",
   "pygments_lexer": "ipython3",
   "version": "3.8.15"
  }
 },
 "nbformat": 4,
 "nbformat_minor": 4
}
