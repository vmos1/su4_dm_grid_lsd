{
 "cells": [
  {
   "cell_type": "markdown",
   "id": "afcc17b3",
   "metadata": {},
   "source": [
    "# Notebook to analyze output of Grid code for SU(4)\n",
    "Author: Venkitesh Ayyar (vayyar@bu.edu) \\\n",
    "Dec 2, 2022"
   ]
  },
  {
   "cell_type": "code",
   "execution_count": 1,
   "id": "806ca4e8",
   "metadata": {},
   "outputs": [],
   "source": [
    "import numpy as np\n",
    "import matplotlib.pyplot as plt"
   ]
  },
  {
   "cell_type": "code",
   "execution_count": 2,
   "id": "be18718f",
   "metadata": {},
   "outputs": [],
   "source": [
    "import subprocess as sp\n",
    "import os \n",
    "import glob\n",
    "import pandas as pd"
   ]
  },
  {
   "cell_type": "code",
   "execution_count": 3,
   "id": "53c7b2b7",
   "metadata": {},
   "outputs": [],
   "source": [
    "# %matplotlib widget"
   ]
  },
  {
   "cell_type": "code",
   "execution_count": 4,
   "id": "396c3edc",
   "metadata": {},
   "outputs": [],
   "source": [
    "%matplotlib inline"
   ]
  },
  {
   "cell_type": "code",
   "execution_count": 6,
   "id": "1a627198",
   "metadata": {},
   "outputs": [],
   "source": [
    "fname='/usr/WS2/lsd/ayyar1/projects/SU4_sdm/runs_Grid/2022_nov16/dm_tests/run1/SDM.4node'"
   ]
  },
  {
   "cell_type": "markdown",
   "id": "d164fc78",
   "metadata": {},
   "source": [
    "### Get Plaquette value"
   ]
  },
  {
   "cell_type": "code",
   "execution_count": 7,
   "id": "c0d8c452",
   "metadata": {},
   "outputs": [
    {
     "name": "stdout",
     "output_type": "stream",
     "text": [
      "grep 'Plaq' /usr/WS2/lsd/ayyar1/projects/SU4_sdm/runs_Grid/2022_nov16/dm_tests/run1/SDM.4node\n",
      "Grid : Message : 110.876640 s : Plaquette: [ 1 ] 0.6689615090380521\n"
     ]
    }
   ],
   "source": [
    "cmd=\"grep 'Plaq' %s\"%(fname)\n",
    "print(cmd)\n",
    "op=sp.check_output(cmd,shell=True).decode().split('\\n') # decode bytes to string and split by newlines\n",
    "op=[i for i in op if i] # Drop null string\n",
    "print(op[0])"
   ]
  },
  {
   "cell_type": "code",
   "execution_count": 8,
   "id": "148de776",
   "metadata": {
    "scrolled": true
   },
   "outputs": [],
   "source": [
    "cols=['iter','val','time']\n",
    "df=pd.DataFrame(columns=cols)\n",
    "\n",
    "for count,i in enumerate(op): \n",
    "    itr=int(i.split('[ ')[-1].split(' ]')[0])\n",
    "    val=np.float64(i.split(' ')[-1])\n",
    "    time=np.float64(i.split(': ')[2].split(' s')[0])\n",
    "    dict1={'iter':itr, 'val':val, 'time':time}\n",
    "#     print(dict1)\n",
    "    df=pd.concat([df,pd.DataFrame(dict1,index=[count])])\n",
    "    count+=1"
   ]
  },
  {
   "cell_type": "code",
   "execution_count": 9,
   "id": "a024a32f",
   "metadata": {},
   "outputs": [
    {
     "data": {
      "text/html": [
       "<div>\n",
       "<style scoped>\n",
       "    .dataframe tbody tr th:only-of-type {\n",
       "        vertical-align: middle;\n",
       "    }\n",
       "\n",
       "    .dataframe tbody tr th {\n",
       "        vertical-align: top;\n",
       "    }\n",
       "\n",
       "    .dataframe thead th {\n",
       "        text-align: right;\n",
       "    }\n",
       "</style>\n",
       "<table border=\"1\" class=\"dataframe\">\n",
       "  <thead>\n",
       "    <tr style=\"text-align: right;\">\n",
       "      <th></th>\n",
       "      <th>iter</th>\n",
       "      <th>val</th>\n",
       "      <th>time</th>\n",
       "    </tr>\n",
       "  </thead>\n",
       "  <tbody>\n",
       "    <tr>\n",
       "      <th>0</th>\n",
       "      <td>1</td>\n",
       "      <td>0.668962</td>\n",
       "      <td>110.87664</td>\n",
       "    </tr>\n",
       "    <tr>\n",
       "      <th>1</th>\n",
       "      <td>2</td>\n",
       "      <td>0.65533</td>\n",
       "      <td>288.728567</td>\n",
       "    </tr>\n",
       "    <tr>\n",
       "      <th>2</th>\n",
       "      <td>3</td>\n",
       "      <td>0.598137</td>\n",
       "      <td>478.118549</td>\n",
       "    </tr>\n",
       "    <tr>\n",
       "      <th>3</th>\n",
       "      <td>4</td>\n",
       "      <td>0.488221</td>\n",
       "      <td>649.580487</td>\n",
       "    </tr>\n",
       "    <tr>\n",
       "      <th>4</th>\n",
       "      <td>5</td>\n",
       "      <td>0.532374</td>\n",
       "      <td>738.501836</td>\n",
       "    </tr>\n",
       "    <tr>\n",
       "      <th>...</th>\n",
       "      <td>...</td>\n",
       "      <td>...</td>\n",
       "      <td>...</td>\n",
       "    </tr>\n",
       "    <tr>\n",
       "      <th>87</th>\n",
       "      <td>88</td>\n",
       "      <td>0.600424</td>\n",
       "      <td>13628.220878</td>\n",
       "    </tr>\n",
       "    <tr>\n",
       "      <th>88</th>\n",
       "      <td>89</td>\n",
       "      <td>0.600528</td>\n",
       "      <td>13786.309745</td>\n",
       "    </tr>\n",
       "    <tr>\n",
       "      <th>89</th>\n",
       "      <td>90</td>\n",
       "      <td>0.599915</td>\n",
       "      <td>13943.77303</td>\n",
       "    </tr>\n",
       "    <tr>\n",
       "      <th>90</th>\n",
       "      <td>91</td>\n",
       "      <td>0.600429</td>\n",
       "      <td>14101.416819</td>\n",
       "    </tr>\n",
       "    <tr>\n",
       "      <th>91</th>\n",
       "      <td>92</td>\n",
       "      <td>0.600429</td>\n",
       "      <td>14261.553251</td>\n",
       "    </tr>\n",
       "  </tbody>\n",
       "</table>\n",
       "<p>92 rows × 3 columns</p>\n",
       "</div>"
      ],
      "text/plain": [
       "   iter       val          time\n",
       "0     1  0.668962     110.87664\n",
       "1     2   0.65533    288.728567\n",
       "2     3  0.598137    478.118549\n",
       "3     4  0.488221    649.580487\n",
       "4     5  0.532374    738.501836\n",
       "..  ...       ...           ...\n",
       "87   88  0.600424  13628.220878\n",
       "88   89  0.600528  13786.309745\n",
       "89   90  0.599915   13943.77303\n",
       "90   91  0.600429  14101.416819\n",
       "91   92  0.600429  14261.553251\n",
       "\n",
       "[92 rows x 3 columns]"
      ]
     },
     "execution_count": 9,
     "metadata": {},
     "output_type": "execute_result"
    }
   ],
   "source": [
    "df"
   ]
  },
  {
   "cell_type": "code",
   "execution_count": 10,
   "id": "9feb7f6d",
   "metadata": {},
   "outputs": [
    {
     "data": {
      "image/png": "[encoded data removed]",
      "text/plain": [
       "<Figure size 432x288 with 1 Axes>"
      ]
     },
     "metadata": {
      "needs_background": "light"
     },
     "output_type": "display_data"
    }
   ],
   "source": [
    "plt.figure()\n",
    "x=df.iter.values\n",
    "y=df.val.values\n",
    "plt.plot(x,y,marker='o',linestyle='')\n",
    "plt.ylabel('Plaquette')\n",
    "plt.show()"
   ]
  },
  {
   "cell_type": "markdown",
   "id": "888a7dd9",
   "metadata": {},
   "source": [
    "### Get acceptance rate"
   ]
  },
  {
   "cell_type": "code",
   "execution_count": 11,
   "id": "d1a8d0c7",
   "metadata": {},
   "outputs": [
    {
     "name": "stdout",
     "output_type": "stream",
     "text": [
      "grep 'Metropolis_test' /usr/WS2/lsd/ayyar1/projects/SU4_sdm/runs_Grid/2022_nov16/dm_tests/run1/SDM.4node\n",
      "Grid : Message : 1474.764481 s : Metropolis_test -- ACCEPTED\n"
     ]
    }
   ],
   "source": [
    "cmd=\"grep 'Metropolis_test' %s\"%(fname)\n",
    "print(cmd)\n",
    "op=sp.check_output(cmd,shell=True).decode().split('\\n') # decode bytes to string and split by newlines\n",
    "op=[i for i in op if i] # Drop null string\n",
    "print(op[0])"
   ]
  },
  {
   "cell_type": "code",
   "execution_count": 12,
   "id": "eb07db68",
   "metadata": {},
   "outputs": [],
   "source": [
    "cols=['iter','val','time']\n",
    "df=pd.DataFrame(columns=cols)\n",
    "\n",
    "for count,i in enumerate(op): \n",
    "    val=1 if (i.split(' ')[-1]=='ACCEPTED') else 0 # Accept =1 , Reject = 0\n",
    "    time=np.float64(i.split(': ')[2].split(' s')[0]) \n",
    "    dict1={'iter':count, 'val':val, 'time':time}\n",
    "#     print(dict1)\n",
    "    df=pd.concat([df,pd.DataFrame(dict1,index=[count])])\n",
    "    count+=1"
   ]
  },
  {
   "cell_type": "code",
   "execution_count": 13,
   "id": "3897fdf1",
   "metadata": {},
   "outputs": [
    {
     "data": {
      "text/html": [
       "<div>\n",
       "<style scoped>\n",
       "    .dataframe tbody tr th:only-of-type {\n",
       "        vertical-align: middle;\n",
       "    }\n",
       "\n",
       "    .dataframe tbody tr th {\n",
       "        vertical-align: top;\n",
       "    }\n",
       "\n",
       "    .dataframe thead th {\n",
       "        text-align: right;\n",
       "    }\n",
       "</style>\n",
       "<table border=\"1\" class=\"dataframe\">\n",
       "  <thead>\n",
       "    <tr style=\"text-align: right;\">\n",
       "      <th></th>\n",
       "      <th>iter</th>\n",
       "      <th>val</th>\n",
       "      <th>time</th>\n",
       "    </tr>\n",
       "  </thead>\n",
       "  <tbody>\n",
       "    <tr>\n",
       "      <th>0</th>\n",
       "      <td>0</td>\n",
       "      <td>1</td>\n",
       "      <td>1474.764481</td>\n",
       "    </tr>\n",
       "    <tr>\n",
       "      <th>1</th>\n",
       "      <td>1</td>\n",
       "      <td>1</td>\n",
       "      <td>1617.381245</td>\n",
       "    </tr>\n",
       "    <tr>\n",
       "      <th>2</th>\n",
       "      <td>2</td>\n",
       "      <td>1</td>\n",
       "      <td>1763.896661</td>\n",
       "    </tr>\n",
       "    <tr>\n",
       "      <th>3</th>\n",
       "      <td>3</td>\n",
       "      <td>0</td>\n",
       "      <td>1911.889858</td>\n",
       "    </tr>\n",
       "    <tr>\n",
       "      <th>4</th>\n",
       "      <td>4</td>\n",
       "      <td>1</td>\n",
       "      <td>2061.169907</td>\n",
       "    </tr>\n",
       "    <tr>\n",
       "      <th>...</th>\n",
       "      <td>...</td>\n",
       "      <td>...</td>\n",
       "      <td>...</td>\n",
       "    </tr>\n",
       "    <tr>\n",
       "      <th>77</th>\n",
       "      <td>77</td>\n",
       "      <td>1</td>\n",
       "      <td>13628.202506</td>\n",
       "    </tr>\n",
       "    <tr>\n",
       "      <th>78</th>\n",
       "      <td>78</td>\n",
       "      <td>1</td>\n",
       "      <td>13786.291281</td>\n",
       "    </tr>\n",
       "    <tr>\n",
       "      <th>79</th>\n",
       "      <td>79</td>\n",
       "      <td>1</td>\n",
       "      <td>13943.754569</td>\n",
       "    </tr>\n",
       "    <tr>\n",
       "      <th>80</th>\n",
       "      <td>80</td>\n",
       "      <td>1</td>\n",
       "      <td>14101.398481</td>\n",
       "    </tr>\n",
       "    <tr>\n",
       "      <th>81</th>\n",
       "      <td>81</td>\n",
       "      <td>0</td>\n",
       "      <td>14261.535071</td>\n",
       "    </tr>\n",
       "  </tbody>\n",
       "</table>\n",
       "<p>82 rows × 3 columns</p>\n",
       "</div>"
      ],
      "text/plain": [
       "   iter val          time\n",
       "0     0   1   1474.764481\n",
       "1     1   1   1617.381245\n",
       "2     2   1   1763.896661\n",
       "3     3   0   1911.889858\n",
       "4     4   1   2061.169907\n",
       "..  ...  ..           ...\n",
       "77   77   1  13628.202506\n",
       "78   78   1  13786.291281\n",
       "79   79   1  13943.754569\n",
       "80   80   1  14101.398481\n",
       "81   81   0  14261.535071\n",
       "\n",
       "[82 rows x 3 columns]"
      ]
     },
     "execution_count": 13,
     "metadata": {},
     "output_type": "execute_result"
    }
   ],
   "source": [
    "df"
   ]
  },
  {
   "cell_type": "code",
   "execution_count": 14,
   "id": "ddf63eed",
   "metadata": {},
   "outputs": [
    {
     "data": {
      "text/plain": [
       "[<matplotlib.lines.Line2D at 0x155541162f10>]"
      ]
     },
     "execution_count": 14,
     "metadata": {},
     "output_type": "execute_result"
    },
    {
     "data": {
      "image/png": "[encoded data removed]",
      "text/plain": [
       "<Figure size 432x288 with 1 Axes>"
      ]
     },
     "metadata": {
      "needs_background": "light"
     },
     "output_type": "display_data"
    }
   ],
   "source": [
    "plt.figure()\n",
    "x=df.iter.values\n",
    "y=df.val.values\n",
    "plt.ylabel('accept')\n",
    "plt.plot(y,marker='*',linestyle='')"
   ]
  },
  {
   "cell_type": "code",
   "execution_count": 15,
   "id": "12d8eef8",
   "metadata": {},
   "outputs": [
    {
     "name": "stdout",
     "output_type": "stream",
     "text": [
      "1    70\n",
      "0    12\n",
      "Name: val, dtype: int64\n",
      "85.36585365853658 %\n"
     ]
    }
   ],
   "source": [
    "# Print Acceptance ratio\n",
    "ct=df['val'].value_counts()\n",
    "print(ct)\n",
    "\n",
    "Act=ct[1]\n",
    "Rft=ct[0]\n",
    "print(Act* 100 /(Act+Rft),'%')"
   ]
  },
  {
   "cell_type": "code",
   "execution_count": null,
   "id": "d1916cc3",
   "metadata": {},
   "outputs": [],
   "source": []
  },
  {
   "cell_type": "code",
   "execution_count": null,
   "id": "6622025a",
   "metadata": {},
   "outputs": [],
   "source": []
  }
 ],
 "metadata": {
  "kernelspec": {
   "display_name": "Python 3 (ipykernel)",
   "language": "python",
   "name": "python3"
  },
  "language_info": {
   "codemirror_mode": {
    "name": "ipython",
    "version": 3
   },
   "file_extension": ".py",
   "mimetype": "text/x-python",
   "name": "python",
   "nbconvert_exporter": "python",
   "pygments_lexer": "ipython3",
   "version": "3.9.12"
  }
 },
 "nbformat": 4,
 "nbformat_minor": 5
}
