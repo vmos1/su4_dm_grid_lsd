{
 "cells": [
  {
   "cell_type": "markdown",
   "metadata": {},
   "source": [
    "# Notebook to analyze output of Grid code for SU(4)\n",
    "Author: Venkitesh Ayyar (vayyar@bu.edu) \\\n",
    "Dec 2, 2022"
   ]
  },
  {
   "cell_type": "code",
   "execution_count": 1,
   "metadata": {},
   "outputs": [],
   "source": [
    "import numpy as np\n",
    "import matplotlib.pyplot as plt"
   ]
  },
  {
   "cell_type": "code",
   "execution_count": 2,
   "metadata": {},
   "outputs": [],
   "source": [
    "import subprocess as sp\n",
    "import os \n",
    "import glob\n",
    "import pandas as pd"
   ]
  },
  {
   "cell_type": "code",
   "execution_count": 40,
   "metadata": {},
   "outputs": [],
   "source": [
    "%matplotlib widget"
   ]
  },
  {
   "cell_type": "code",
   "execution_count": 47,
   "metadata": {},
   "outputs": [],
   "source": [
    "%matplotlib inline"
   ]
  },
  {
   "cell_type": "code",
   "execution_count": 41,
   "metadata": {},
   "outputs": [
    {
     "name": "stdout",
     "output_type": "stream",
     "text": [
      "Warning: Cannot change to a different GUI toolkit: ipympl. Using widget instead.\n"
     ]
    }
   ],
   "source": [
    "%matplotlib ipympl"
   ]
  },
  {
   "cell_type": "code",
   "execution_count": 42,
   "metadata": {},
   "outputs": [],
   "source": [
    "fname='/usr/WS2/lsd/ayyar1/projects/SU4_sdm/runs_Grid/2022_nov16/dm_tests/run1/SDM.4node'"
   ]
  },
  {
   "cell_type": "markdown",
   "metadata": {},
   "source": [
    "### Get Plaquette value"
   ]
  },
  {
   "cell_type": "code",
   "execution_count": 43,
   "metadata": {},
   "outputs": [
    {
     "name": "stdout",
     "output_type": "stream",
     "text": [
      "grep 'Plaq' /usr/WS2/lsd/ayyar1/projects/SU4_sdm/runs_Grid/2022_nov16/dm_tests/run1/SDM.4node\n",
      "Grid : Message : 110.876640 s : Plaquette: [ 1 ] 0.6689615090380521\n"
     ]
    }
   ],
   "source": [
    "cmd=\"grep 'Plaq' %s\"%(fname)\n",
    "print(cmd)\n",
    "op=sp.check_output(cmd,shell=True).decode().split('\\n') # decode bytes to string and split by newlines\n",
    "op=[i for i in op if i] # Drop null string\n",
    "print(op[0])"
   ]
  },
  {
   "cell_type": "code",
   "execution_count": 44,
   "metadata": {
    "scrolled": true
   },
   "outputs": [],
   "source": [
    "cols=['iter','val','time']\n",
    "df=pd.DataFrame(columns=cols)\n",
    "\n",
    "for count,i in enumerate(op): \n",
    "    itr=int(i.split('[ ')[-1].split(' ]')[0])\n",
    "    val=np.float64(i.split(' ')[-1])\n",
    "    time=np.float64(i.split(': ')[2].split(' s')[0])\n",
    "    dict1={'iter':itr, 'val':val, 'time':time}\n",
    "#     print(dict1)\n",
    "    df=pd.concat([df,pd.DataFrame(dict1,index=[count])])\n",
    "    count+=1"
   ]
  },
  {
   "cell_type": "code",
   "execution_count": 45,
   "metadata": {
    "scrolled": true
   },
   "outputs": [
    {
     "data": {
      "text/html": [
       "<div>\n",
       "<style scoped>\n",
       "    .dataframe tbody tr th:only-of-type {\n",
       "        vertical-align: middle;\n",
       "    }\n",
       "\n",
       "    .dataframe tbody tr th {\n",
       "        vertical-align: top;\n",
       "    }\n",
       "\n",
       "    .dataframe thead th {\n",
       "        text-align: right;\n",
       "    }\n",
       "</style>\n",
       "<table border=\"1\" class=\"dataframe\">\n",
       "  <thead>\n",
       "    <tr style=\"text-align: right;\">\n",
       "      <th></th>\n",
       "      <th>iter</th>\n",
       "      <th>val</th>\n",
       "      <th>time</th>\n",
       "    </tr>\n",
       "  </thead>\n",
       "  <tbody>\n",
       "    <tr>\n",
       "      <th>0</th>\n",
       "      <td>1</td>\n",
       "      <td>0.668962</td>\n",
       "      <td>110.876640</td>\n",
       "    </tr>\n",
       "    <tr>\n",
       "      <th>1</th>\n",
       "      <td>2</td>\n",
       "      <td>0.655330</td>\n",
       "      <td>288.728567</td>\n",
       "    </tr>\n",
       "    <tr>\n",
       "      <th>2</th>\n",
       "      <td>3</td>\n",
       "      <td>0.598137</td>\n",
       "      <td>478.118549</td>\n",
       "    </tr>\n",
       "    <tr>\n",
       "      <th>3</th>\n",
       "      <td>4</td>\n",
       "      <td>0.488221</td>\n",
       "      <td>649.580487</td>\n",
       "    </tr>\n",
       "    <tr>\n",
       "      <th>4</th>\n",
       "      <td>5</td>\n",
       "      <td>0.532374</td>\n",
       "      <td>738.501836</td>\n",
       "    </tr>\n",
       "    <tr>\n",
       "      <th>...</th>\n",
       "      <td>...</td>\n",
       "      <td>...</td>\n",
       "      <td>...</td>\n",
       "    </tr>\n",
       "    <tr>\n",
       "      <th>87</th>\n",
       "      <td>88</td>\n",
       "      <td>0.600424</td>\n",
       "      <td>13628.220878</td>\n",
       "    </tr>\n",
       "    <tr>\n",
       "      <th>88</th>\n",
       "      <td>89</td>\n",
       "      <td>0.600528</td>\n",
       "      <td>13786.309745</td>\n",
       "    </tr>\n",
       "    <tr>\n",
       "      <th>89</th>\n",
       "      <td>90</td>\n",
       "      <td>0.599915</td>\n",
       "      <td>13943.773030</td>\n",
       "    </tr>\n",
       "    <tr>\n",
       "      <th>90</th>\n",
       "      <td>91</td>\n",
       "      <td>0.600429</td>\n",
       "      <td>14101.416819</td>\n",
       "    </tr>\n",
       "    <tr>\n",
       "      <th>91</th>\n",
       "      <td>92</td>\n",
       "      <td>0.600429</td>\n",
       "      <td>14261.553251</td>\n",
       "    </tr>\n",
       "  </tbody>\n",
       "</table>\n",
       "<p>92 rows × 3 columns</p>\n",
       "</div>"
      ],
      "text/plain": [
       "   iter       val          time\n",
       "0     1  0.668962    110.876640\n",
       "1     2  0.655330    288.728567\n",
       "2     3  0.598137    478.118549\n",
       "3     4  0.488221    649.580487\n",
       "4     5  0.532374    738.501836\n",
       "..  ...       ...           ...\n",
       "87   88  0.600424  13628.220878\n",
       "88   89  0.600528  13786.309745\n",
       "89   90  0.599915  13943.773030\n",
       "90   91  0.600429  14101.416819\n",
       "91   92  0.600429  14261.553251\n",
       "\n",
       "[92 rows x 3 columns]"
      ]
     },
     "execution_count": 45,
     "metadata": {},
     "output_type": "execute_result"
    }
   ],
   "source": [
    "df"
   ]
  },
  {
   "cell_type": "code",
   "execution_count": 48,
   "metadata": {},
   "outputs": [
    {
     "data": {
      "text/plain": [
       "Text(0, 0.5, 'Plaquette')"
      ]
     },
     "execution_count": 48,
     "metadata": {},
     "output_type": "execute_result"
    },
    {
     "data": {
      "image/png": "[encoded data removed]",
      "text/plain": [
       "<Figure size 640x480 with 1 Axes>"
      ]
     },
     "metadata": {},
     "output_type": "display_data"
    }
   ],
   "source": [
    "plt.figure()\n",
    "x=df.iter.values\n",
    "y=df.val.values\n",
    "plt.plot(x,y,marker='o',linestyle='')\n",
    "plt.ylabel('Plaquette')\n",
    "# plt.show()"
   ]
  },
  {
   "cell_type": "markdown",
   "metadata": {},
   "source": [
    "### Get acceptance rate"
   ]
  },
  {
   "cell_type": "code",
   "execution_count": 10,
   "metadata": {},
   "outputs": [
    {
     "name": "stdout",
     "output_type": "stream",
     "text": [
      "grep 'Metropolis_test' /usr/WS2/lsd/ayyar1/projects/SU4_sdm/runs_Grid/2022_nov16/dm_tests/run1/SDM.4node\n",
      "Grid : Message : 1474.764481 s : Metropolis_test -- ACCEPTED\n"
     ]
    }
   ],
   "source": [
    "cmd=\"grep 'Metropolis_test' %s\"%(fname)\n",
    "print(cmd)\n",
    "op=sp.check_output(cmd,shell=True).decode().split('\\n') # decode bytes to string and split by newlines\n",
    "op=[i for i in op if i] # Drop null string\n",
    "print(op[0])"
   ]
  },
  {
   "cell_type": "code",
   "execution_count": 11,
   "metadata": {},
   "outputs": [],
   "source": [
    "cols=['iter','val','time']\n",
    "df=pd.DataFrame(columns=cols)\n",
    "\n",
    "for count,i in enumerate(op): \n",
    "    val=1 if (i.split(' ')[-1]=='ACCEPTED') else 0 # Accept =1 , Reject = 0\n",
    "    time=np.float64(i.split(': ')[2].split(' s')[0]) \n",
    "    dict1={'iter':count, 'val':val, 'time':time}\n",
    "#     print(dict1)\n",
    "    df=pd.concat([df,pd.DataFrame(dict1,index=[count])])\n",
    "    count+=1"
   ]
  },
  {
   "cell_type": "code",
   "execution_count": 12,
   "metadata": {
    "scrolled": true
   },
   "outputs": [
    {
     "data": {
      "text/html": [
       "<div>\n",
       "<style scoped>\n",
       "    .dataframe tbody tr th:only-of-type {\n",
       "        vertical-align: middle;\n",
       "    }\n",
       "\n",
       "    .dataframe tbody tr th {\n",
       "        vertical-align: top;\n",
       "    }\n",
       "\n",
       "    .dataframe thead th {\n",
       "        text-align: right;\n",
       "    }\n",
       "</style>\n",
       "<table border=\"1\" class=\"dataframe\">\n",
       "  <thead>\n",
       "    <tr style=\"text-align: right;\">\n",
       "      <th></th>\n",
       "      <th>iter</th>\n",
       "      <th>val</th>\n",
       "      <th>time</th>\n",
       "    </tr>\n",
       "  </thead>\n",
       "  <tbody>\n",
       "    <tr>\n",
       "      <th>0</th>\n",
       "      <td>0</td>\n",
       "      <td>1</td>\n",
       "      <td>1474.764481</td>\n",
       "    </tr>\n",
       "    <tr>\n",
       "      <th>1</th>\n",
       "      <td>1</td>\n",
       "      <td>1</td>\n",
       "      <td>1617.381245</td>\n",
       "    </tr>\n",
       "    <tr>\n",
       "      <th>2</th>\n",
       "      <td>2</td>\n",
       "      <td>1</td>\n",
       "      <td>1763.896661</td>\n",
       "    </tr>\n",
       "    <tr>\n",
       "      <th>3</th>\n",
       "      <td>3</td>\n",
       "      <td>0</td>\n",
       "      <td>1911.889858</td>\n",
       "    </tr>\n",
       "    <tr>\n",
       "      <th>4</th>\n",
       "      <td>4</td>\n",
       "      <td>1</td>\n",
       "      <td>2061.169907</td>\n",
       "    </tr>\n",
       "    <tr>\n",
       "      <th>...</th>\n",
       "      <td>...</td>\n",
       "      <td>...</td>\n",
       "      <td>...</td>\n",
       "    </tr>\n",
       "    <tr>\n",
       "      <th>77</th>\n",
       "      <td>77</td>\n",
       "      <td>1</td>\n",
       "      <td>13628.202506</td>\n",
       "    </tr>\n",
       "    <tr>\n",
       "      <th>78</th>\n",
       "      <td>78</td>\n",
       "      <td>1</td>\n",
       "      <td>13786.291281</td>\n",
       "    </tr>\n",
       "    <tr>\n",
       "      <th>79</th>\n",
       "      <td>79</td>\n",
       "      <td>1</td>\n",
       "      <td>13943.754569</td>\n",
       "    </tr>\n",
       "    <tr>\n",
       "      <th>80</th>\n",
       "      <td>80</td>\n",
       "      <td>1</td>\n",
       "      <td>14101.398481</td>\n",
       "    </tr>\n",
       "    <tr>\n",
       "      <th>81</th>\n",
       "      <td>81</td>\n",
       "      <td>0</td>\n",
       "      <td>14261.535071</td>\n",
       "    </tr>\n",
       "  </tbody>\n",
       "</table>\n",
       "<p>82 rows × 3 columns</p>\n",
       "</div>"
      ],
      "text/plain": [
       "   iter val          time\n",
       "0     0   1   1474.764481\n",
       "1     1   1   1617.381245\n",
       "2     2   1   1763.896661\n",
       "3     3   0   1911.889858\n",
       "4     4   1   2061.169907\n",
       "..  ...  ..           ...\n",
       "77   77   1  13628.202506\n",
       "78   78   1  13786.291281\n",
       "79   79   1  13943.754569\n",
       "80   80   1  14101.398481\n",
       "81   81   0  14261.535071\n",
       "\n",
       "[82 rows x 3 columns]"
      ]
     },
     "execution_count": 12,
     "metadata": {},
     "output_type": "execute_result"
    }
   ],
   "source": [
    "df"
   ]
  },
  {
   "cell_type": "code",
   "execution_count": 13,
   "metadata": {},
   "outputs": [
    {
     "data": {
      "application/vnd.jupyter.widget-view+json": {
       "model_id": "33b2e05636d44cf0a6f79967ab6fc104",
       "version_major": 2,
       "version_minor": 0
      },
      "text/html": [
       "\n",
       "            <div style=\"display: inline-block;\">\n",
       "                <div class=\"jupyter-widgets widget-label\" style=\"text-align: center;\">\n",
       "                    Figure\n",
       "                </div>\n",
       "                <img src='data:image/png;base64,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' width=640.0/>\n",
       "            </div>\n",
       "        "
      ],
      "text/plain": [
       "Canvas(toolbar=None)"
      ]
     },
     "metadata": {},
     "output_type": "display_data"
    }
   ],
   "source": [
    "plt.figure()\n",
    "x=df.iter.values\n",
    "y=df.val.values\n",
    "plt.ylabel('accept')\n",
    "plt.plot(y,marker='*',linestyle='')\n",
    "plt.show()"
   ]
  },
  {
   "cell_type": "code",
   "execution_count": 24,
   "metadata": {},
   "outputs": [
    {
     "name": "stdout",
     "output_type": "stream",
     "text": [
      "1    70\n",
      "0    12\n",
      "Name: val, dtype: int64\n",
      "85.36585365853658 %\n"
     ]
    }
   ],
   "source": [
    "# Print Acceptance ratio\n",
    "ct=df['val'].value_counts()\n",
    "print(ct)\n",
    "\n",
    "Act=ct[1]\n",
    "Rft=ct[0]\n",
    "print(Act* 100 /(Act+Rft),'%')"
   ]
  },
  {
   "cell_type": "code",
   "execution_count": null,
   "metadata": {},
   "outputs": [],
   "source": []
  },
  {
   "cell_type": "code",
   "execution_count": null,
   "metadata": {},
   "outputs": [],
   "source": []
  },
  {
   "cell_type": "code",
   "execution_count": null,
   "metadata": {},
   "outputs": [],
   "source": []
  },
  {
   "cell_type": "code",
   "execution_count": null,
   "metadata": {},
   "outputs": [],
   "source": []
  }
 ],
 "metadata": {
  "kernelspec": {
   "display_name": "v3",
   "language": "python",
   "name": "vpy39"
  },
  "language_info": {
   "codemirror_mode": {
    "name": "ipython",
    "version": 3
   },
   "file_extension": ".py",
   "mimetype": "text/x-python",
   "name": "python",
   "nbconvert_exporter": "python",
   "pygments_lexer": "ipython3",
   "version": "3.8.15"
  }
 },
 "nbformat": 4,
 "nbformat_minor": 5
}
